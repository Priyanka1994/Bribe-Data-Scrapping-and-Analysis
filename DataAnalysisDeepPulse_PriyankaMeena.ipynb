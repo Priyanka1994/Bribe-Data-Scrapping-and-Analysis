{
 "cells": [
  {
   "cell_type": "code",
   "execution_count": 153,
   "metadata": {},
   "outputs": [],
   "source": [
    "import pandas as pd\n",
    "import numpy as np\n",
    "import matplotlib as plt\n",
    "plt.rcParams['font.size'] = 6.5"
   ]
  },
  {
   "cell_type": "code",
   "execution_count": null,
   "metadata": {},
   "outputs": [],
   "source": [
    "#The data was crawled from 100 pages of Ipaidbribe.com.\n",
    "#The posts were made from 31st October to 26th November 2019.\n",
    "#some findings are as follows :\n",
    "#As per the analysis, the maximum bribe was paid in Hospitals and Medical Care and Health Services, followed by commercial \n",
    "#and Industries department.\n",
    "#Bangalore is the city where maximum bribe amount was paid.\n",
    "#This can be because maximum reportings were done in Bangalore and Ipaidbribe.com is based out of bangalore.\n",
    "#total amount paid as bribe from 31st october to november 26 was 55,806,569,752 (55.8 Billions)\n",
    "#Maximum reportings were done for Hospitals and Medical Care, followed by Certificates \n",
    "#The highest amount was paid on 23rd November.\n",
    "#Bangalore has the highest no. of reportings. \n",
    "#This can be owed to strong presence of Ipaidbribe.com in Bangalore and awareness about it.\n",
    "#Bangalore has the highest number of views, followed by Chennai. \n",
    "#This can be attributed to awarenss about the site in Southern part of India.\n",
    "#Maximum views were received on November 3rd, followed by November 18 and November 23rd. \n",
    "#It seems like people usually browse articles on weekends\n",
    "#Maximum views were received for articles relating to Hospitals and medical care division. \n",
    "#This can be attributed to the highest number of postings in this department."
   ]
  },
  {
   "cell_type": "code",
   "execution_count": 3,
   "metadata": {},
   "outputs": [],
   "source": [
    "df = pd.read_csv(r\"C:\\Users\\acer\\Desktop\\paidbribe.csv\")"
   ]
  },
  {
   "cell_type": "code",
   "execution_count": 4,
   "metadata": {},
   "outputs": [
    {
     "data": {
      "text/html": [
       "<div>\n",
       "<style scoped>\n",
       "    .dataframe tbody tr th:only-of-type {\n",
       "        vertical-align: middle;\n",
       "    }\n",
       "\n",
       "    .dataframe tbody tr th {\n",
       "        vertical-align: top;\n",
       "    }\n",
       "\n",
       "    .dataframe thead th {\n",
       "        text-align: right;\n",
       "    }\n",
       "</style>\n",
       "<table border=\"1\" class=\"dataframe\">\n",
       "  <thead>\n",
       "    <tr style=\"text-align: right;\">\n",
       "      <th></th>\n",
       "      <th>title</th>\n",
       "      <th>amount</th>\n",
       "      <th>department</th>\n",
       "      <th>transDetail</th>\n",
       "      <th>views</th>\n",
       "      <th>city</th>\n",
       "      <th>date</th>\n",
       "    </tr>\n",
       "  </thead>\n",
       "  <tbody>\n",
       "    <tr>\n",
       "      <th>0</th>\n",
       "      <td>They asking me bribe for community certificate</td>\n",
       "      <td>Paid INR 100\\r\\n</td>\n",
       "      <td>Certificates</td>\n",
       "      <td>217387</td>\n",
       "      <td>\\r\\n</td>\n",
       "      <td>Thiruvarur\\r\\n                      , Tamil Nadu</td>\n",
       "      <td>November 26, 2019</td>\n",
       "    </tr>\n",
       "    <tr>\n",
       "      <th>1</th>\n",
       "      <td>Birhalganj police asking for bribe</td>\n",
       "      <td>Paid INR 10,000\\r\\n</td>\n",
       "      <td>FIR and Complaints</td>\n",
       "      <td>217386</td>\n",
       "      <td>Visitors</td>\n",
       "      <td>Gorakhpur\\r\\n                      , Uttar Pra...</td>\n",
       "      <td>November 26, 2019</td>\n",
       "    </tr>\n",
       "    <tr>\n",
       "      <th>2</th>\n",
       "      <td>Paid bribe for bike towed from parking place</td>\n",
       "      <td>Paid INR 1,000\\r\\n</td>\n",
       "      <td>Traffic Fines, Penalties, Rules</td>\n",
       "      <td>217299</td>\n",
       "      <td>59 views</td>\n",
       "      <td>Bangalore\\r\\n                      , Karnataka</td>\n",
       "      <td>November 24, 2019</td>\n",
       "    </tr>\n",
       "    <tr>\n",
       "      <th>3</th>\n",
       "      <td>Over speeding</td>\n",
       "      <td>Paid INR 350\\r\\n</td>\n",
       "      <td>Traffic Fines, Penalties, Rules</td>\n",
       "      <td>217297</td>\n",
       "      <td>58 views</td>\n",
       "      <td>Bangalore\\r\\n                      , Karnataka</td>\n",
       "      <td>November 24, 2019</td>\n",
       "    </tr>\n",
       "    <tr>\n",
       "      <th>4</th>\n",
       "      <td>Corruption</td>\n",
       "      <td>Paid INR 8,000\\r\\n</td>\n",
       "      <td>Land Registration</td>\n",
       "      <td>217296</td>\n",
       "      <td>165 views</td>\n",
       "      <td>Yellandu\\r\\n                      , Telangana</td>\n",
       "      <td>November 23, 2019</td>\n",
       "    </tr>\n",
       "  </tbody>\n",
       "</table>\n",
       "</div>"
      ],
      "text/plain": [
       "                                             title  \\\n",
       "0  They asking me bribe for community certificate    \n",
       "1               Birhalganj police asking for bribe   \n",
       "2     Paid bribe for bike towed from parking place   \n",
       "3                                    Over speeding   \n",
       "4                                       Corruption   \n",
       "\n",
       "                                        amount  \\\n",
       "0     Paid INR 100\\r\\n                           \n",
       "1  Paid INR 10,000\\r\\n                           \n",
       "2   Paid INR 1,000\\r\\n                           \n",
       "3     Paid INR 350\\r\\n                           \n",
       "4   Paid INR 8,000\\r\\n                           \n",
       "\n",
       "                        department  transDetail  \\\n",
       "0                     Certificates       217387   \n",
       "1               FIR and Complaints       217386   \n",
       "2  Traffic Fines, Penalties, Rules       217299   \n",
       "3  Traffic Fines, Penalties, Rules       217297   \n",
       "4                Land Registration       217296   \n",
       "\n",
       "                                               views  \\\n",
       "0   \\r\\n                                               \n",
       "1   Visitors                                           \n",
       "2                                           59 views   \n",
       "3                                           58 views   \n",
       "4                                          165 views   \n",
       "\n",
       "                                                city               date  \n",
       "0   Thiruvarur\\r\\n                      , Tamil Nadu  November 26, 2019  \n",
       "1  Gorakhpur\\r\\n                      , Uttar Pra...  November 26, 2019  \n",
       "2     Bangalore\\r\\n                      , Karnataka  November 24, 2019  \n",
       "3     Bangalore\\r\\n                      , Karnataka  November 24, 2019  \n",
       "4      Yellandu\\r\\n                      , Telangana  November 23, 2019  "
      ]
     },
     "execution_count": 4,
     "metadata": {},
     "output_type": "execute_result"
    }
   ],
   "source": [
    "df.head()"
   ]
  },
  {
   "cell_type": "code",
   "execution_count": 5,
   "metadata": {},
   "outputs": [
    {
     "data": {
      "text/plain": [
       "False"
      ]
     },
     "execution_count": 5,
     "metadata": {},
     "output_type": "execute_result"
    }
   ],
   "source": [
    "df['transDetail'].is_unique"
   ]
  },
  {
   "cell_type": "code",
   "execution_count": 6,
   "metadata": {},
   "outputs": [
    {
     "data": {
      "text/plain": [
       "title                         Birhalganj police asking for bribe\n",
       "amount               Paid INR 10,000\\r\\n                        \n",
       "department                                    FIR and Complaints\n",
       "transDetail                                               217386\n",
       "views           Visitors                                        \n",
       "city           Gorakhpur\\r\\n                      , Uttar Pra...\n",
       "date                                           November 26, 2019\n",
       "Name: 1, dtype: object"
      ]
     },
     "execution_count": 6,
     "metadata": {},
     "output_type": "execute_result"
    }
   ],
   "source": [
    "df.loc[1]"
   ]
  },
  {
   "cell_type": "code",
   "execution_count": 7,
   "metadata": {
    "scrolled": true
   },
   "outputs": [
    {
     "data": {
      "text/html": [
       "<div>\n",
       "<style scoped>\n",
       "    .dataframe tbody tr th:only-of-type {\n",
       "        vertical-align: middle;\n",
       "    }\n",
       "\n",
       "    .dataframe tbody tr th {\n",
       "        vertical-align: top;\n",
       "    }\n",
       "\n",
       "    .dataframe thead th {\n",
       "        text-align: right;\n",
       "    }\n",
       "</style>\n",
       "<table border=\"1\" class=\"dataframe\">\n",
       "  <thead>\n",
       "    <tr style=\"text-align: right;\">\n",
       "      <th></th>\n",
       "      <th>0</th>\n",
       "    </tr>\n",
       "  </thead>\n",
       "  <tbody>\n",
       "    <tr>\n",
       "      <th>0</th>\n",
       "      <td>NaN</td>\n",
       "    </tr>\n",
       "    <tr>\n",
       "      <th>1</th>\n",
       "      <td>NaN</td>\n",
       "    </tr>\n",
       "    <tr>\n",
       "      <th>2</th>\n",
       "      <td>59</td>\n",
       "    </tr>\n",
       "    <tr>\n",
       "      <th>3</th>\n",
       "      <td>58</td>\n",
       "    </tr>\n",
       "    <tr>\n",
       "      <th>4</th>\n",
       "      <td>165</td>\n",
       "    </tr>\n",
       "    <tr>\n",
       "      <th>5</th>\n",
       "      <td>146</td>\n",
       "    </tr>\n",
       "    <tr>\n",
       "      <th>6</th>\n",
       "      <td>162</td>\n",
       "    </tr>\n",
       "    <tr>\n",
       "      <th>7</th>\n",
       "      <td>148</td>\n",
       "    </tr>\n",
       "    <tr>\n",
       "      <th>8</th>\n",
       "      <td>148</td>\n",
       "    </tr>\n",
       "    <tr>\n",
       "      <th>9</th>\n",
       "      <td>141</td>\n",
       "    </tr>\n",
       "    <tr>\n",
       "      <th>10</th>\n",
       "      <td>NaN</td>\n",
       "    </tr>\n",
       "    <tr>\n",
       "      <th>11</th>\n",
       "      <td>NaN</td>\n",
       "    </tr>\n",
       "    <tr>\n",
       "      <th>12</th>\n",
       "      <td>165</td>\n",
       "    </tr>\n",
       "    <tr>\n",
       "      <th>13</th>\n",
       "      <td>146</td>\n",
       "    </tr>\n",
       "    <tr>\n",
       "      <th>14</th>\n",
       "      <td>162</td>\n",
       "    </tr>\n",
       "    <tr>\n",
       "      <th>15</th>\n",
       "      <td>148</td>\n",
       "    </tr>\n",
       "    <tr>\n",
       "      <th>16</th>\n",
       "      <td>148</td>\n",
       "    </tr>\n",
       "    <tr>\n",
       "      <th>17</th>\n",
       "      <td>141</td>\n",
       "    </tr>\n",
       "    <tr>\n",
       "      <th>18</th>\n",
       "      <td>133</td>\n",
       "    </tr>\n",
       "    <tr>\n",
       "      <th>19</th>\n",
       "      <td>124</td>\n",
       "    </tr>\n",
       "    <tr>\n",
       "      <th>20</th>\n",
       "      <td>NaN</td>\n",
       "    </tr>\n",
       "    <tr>\n",
       "      <th>21</th>\n",
       "      <td>NaN</td>\n",
       "    </tr>\n",
       "    <tr>\n",
       "      <th>22</th>\n",
       "      <td>26</td>\n",
       "    </tr>\n",
       "    <tr>\n",
       "      <th>23</th>\n",
       "      <td>53</td>\n",
       "    </tr>\n",
       "    <tr>\n",
       "      <th>24</th>\n",
       "      <td>59</td>\n",
       "    </tr>\n",
       "    <tr>\n",
       "      <th>25</th>\n",
       "      <td>58</td>\n",
       "    </tr>\n",
       "    <tr>\n",
       "      <th>26</th>\n",
       "      <td>165</td>\n",
       "    </tr>\n",
       "    <tr>\n",
       "      <th>27</th>\n",
       "      <td>146</td>\n",
       "    </tr>\n",
       "    <tr>\n",
       "      <th>28</th>\n",
       "      <td>162</td>\n",
       "    </tr>\n",
       "    <tr>\n",
       "      <th>29</th>\n",
       "      <td>148</td>\n",
       "    </tr>\n",
       "    <tr>\n",
       "      <th>...</th>\n",
       "      <td>...</td>\n",
       "    </tr>\n",
       "    <tr>\n",
       "      <th>890</th>\n",
       "      <td>NaN</td>\n",
       "    </tr>\n",
       "    <tr>\n",
       "      <th>891</th>\n",
       "      <td>NaN</td>\n",
       "    </tr>\n",
       "    <tr>\n",
       "      <th>892</th>\n",
       "      <td>139</td>\n",
       "    </tr>\n",
       "    <tr>\n",
       "      <th>893</th>\n",
       "      <td>152</td>\n",
       "    </tr>\n",
       "    <tr>\n",
       "      <th>894</th>\n",
       "      <td>158</td>\n",
       "    </tr>\n",
       "    <tr>\n",
       "      <th>895</th>\n",
       "      <td>218</td>\n",
       "    </tr>\n",
       "    <tr>\n",
       "      <th>896</th>\n",
       "      <td>218</td>\n",
       "    </tr>\n",
       "    <tr>\n",
       "      <th>897</th>\n",
       "      <td>233</td>\n",
       "    </tr>\n",
       "    <tr>\n",
       "      <th>898</th>\n",
       "      <td>263</td>\n",
       "    </tr>\n",
       "    <tr>\n",
       "      <th>899</th>\n",
       "      <td>255</td>\n",
       "    </tr>\n",
       "    <tr>\n",
       "      <th>900</th>\n",
       "      <td>NaN</td>\n",
       "    </tr>\n",
       "    <tr>\n",
       "      <th>901</th>\n",
       "      <td>NaN</td>\n",
       "    </tr>\n",
       "    <tr>\n",
       "      <th>902</th>\n",
       "      <td>152</td>\n",
       "    </tr>\n",
       "    <tr>\n",
       "      <th>903</th>\n",
       "      <td>158</td>\n",
       "    </tr>\n",
       "    <tr>\n",
       "      <th>904</th>\n",
       "      <td>218</td>\n",
       "    </tr>\n",
       "    <tr>\n",
       "      <th>905</th>\n",
       "      <td>218</td>\n",
       "    </tr>\n",
       "    <tr>\n",
       "      <th>906</th>\n",
       "      <td>233</td>\n",
       "    </tr>\n",
       "    <tr>\n",
       "      <th>907</th>\n",
       "      <td>263</td>\n",
       "    </tr>\n",
       "    <tr>\n",
       "      <th>908</th>\n",
       "      <td>255</td>\n",
       "    </tr>\n",
       "    <tr>\n",
       "      <th>909</th>\n",
       "      <td>293</td>\n",
       "    </tr>\n",
       "    <tr>\n",
       "      <th>910</th>\n",
       "      <td>NaN</td>\n",
       "    </tr>\n",
       "    <tr>\n",
       "      <th>911</th>\n",
       "      <td>NaN</td>\n",
       "    </tr>\n",
       "    <tr>\n",
       "      <th>912</th>\n",
       "      <td>221</td>\n",
       "    </tr>\n",
       "    <tr>\n",
       "      <th>913</th>\n",
       "      <td>200</td>\n",
       "    </tr>\n",
       "    <tr>\n",
       "      <th>914</th>\n",
       "      <td>188</td>\n",
       "    </tr>\n",
       "    <tr>\n",
       "      <th>915</th>\n",
       "      <td>169</td>\n",
       "    </tr>\n",
       "    <tr>\n",
       "      <th>916</th>\n",
       "      <td>448</td>\n",
       "    </tr>\n",
       "    <tr>\n",
       "      <th>917</th>\n",
       "      <td>415</td>\n",
       "    </tr>\n",
       "    <tr>\n",
       "      <th>918</th>\n",
       "      <td>456</td>\n",
       "    </tr>\n",
       "    <tr>\n",
       "      <th>919</th>\n",
       "      <td>422</td>\n",
       "    </tr>\n",
       "  </tbody>\n",
       "</table>\n",
       "<p>920 rows × 1 columns</p>\n",
       "</div>"
      ],
      "text/plain": [
       "       0\n",
       "0    NaN\n",
       "1    NaN\n",
       "2     59\n",
       "3     58\n",
       "4    165\n",
       "..   ...\n",
       "915  169\n",
       "916  448\n",
       "917  415\n",
       "918  456\n",
       "919  422\n",
       "\n",
       "[920 rows x 1 columns]"
      ]
     },
     "execution_count": 7,
     "metadata": {},
     "output_type": "execute_result"
    }
   ],
   "source": [
    "df.views.str.extract('(\\d+)')"
   ]
  },
  {
   "cell_type": "code",
   "execution_count": 10,
   "metadata": {},
   "outputs": [
    {
     "data": {
      "text/plain": [
       "0    NaN\n",
       "1    NaN\n",
       "2     59\n",
       "3     58\n",
       "4    165\n",
       "Name: views, dtype: object"
      ]
     },
     "execution_count": 10,
     "metadata": {},
     "output_type": "execute_result"
    }
   ],
   "source": [
    "extr = df['views'].str.extract('(\\d+)', expand=False)\n",
    "extr.head()"
   ]
  },
  {
   "cell_type": "code",
   "execution_count": 11,
   "metadata": {},
   "outputs": [
    {
     "data": {
      "text/plain": [
       "dtype('float64')"
      ]
     },
     "execution_count": 11,
     "metadata": {},
     "output_type": "execute_result"
    }
   ],
   "source": [
    "df['views'] = pd.to_numeric(extr)\n",
    "df['views'].dtype"
   ]
  },
  {
   "cell_type": "code",
   "execution_count": 12,
   "metadata": {},
   "outputs": [
    {
     "data": {
      "text/html": [
       "<div>\n",
       "<style scoped>\n",
       "    .dataframe tbody tr th:only-of-type {\n",
       "        vertical-align: middle;\n",
       "    }\n",
       "\n",
       "    .dataframe tbody tr th {\n",
       "        vertical-align: top;\n",
       "    }\n",
       "\n",
       "    .dataframe thead th {\n",
       "        text-align: right;\n",
       "    }\n",
       "</style>\n",
       "<table border=\"1\" class=\"dataframe\">\n",
       "  <thead>\n",
       "    <tr style=\"text-align: right;\">\n",
       "      <th></th>\n",
       "      <th>title</th>\n",
       "      <th>amount</th>\n",
       "      <th>department</th>\n",
       "      <th>transDetail</th>\n",
       "      <th>views</th>\n",
       "      <th>city</th>\n",
       "      <th>date</th>\n",
       "    </tr>\n",
       "  </thead>\n",
       "  <tbody>\n",
       "    <tr>\n",
       "      <th>0</th>\n",
       "      <td>They asking me bribe for community certificate</td>\n",
       "      <td>Paid INR 100\\r\\n</td>\n",
       "      <td>Certificates</td>\n",
       "      <td>217387</td>\n",
       "      <td>NaN</td>\n",
       "      <td>Thiruvarur\\r\\n                      , Tamil Nadu</td>\n",
       "      <td>November 26, 2019</td>\n",
       "    </tr>\n",
       "    <tr>\n",
       "      <th>1</th>\n",
       "      <td>Birhalganj police asking for bribe</td>\n",
       "      <td>Paid INR 10,000\\r\\n</td>\n",
       "      <td>FIR and Complaints</td>\n",
       "      <td>217386</td>\n",
       "      <td>NaN</td>\n",
       "      <td>Gorakhpur\\r\\n                      , Uttar Pra...</td>\n",
       "      <td>November 26, 2019</td>\n",
       "    </tr>\n",
       "    <tr>\n",
       "      <th>2</th>\n",
       "      <td>Paid bribe for bike towed from parking place</td>\n",
       "      <td>Paid INR 1,000\\r\\n</td>\n",
       "      <td>Traffic Fines, Penalties, Rules</td>\n",
       "      <td>217299</td>\n",
       "      <td>59.0</td>\n",
       "      <td>Bangalore\\r\\n                      , Karnataka</td>\n",
       "      <td>November 24, 2019</td>\n",
       "    </tr>\n",
       "    <tr>\n",
       "      <th>3</th>\n",
       "      <td>Over speeding</td>\n",
       "      <td>Paid INR 350\\r\\n</td>\n",
       "      <td>Traffic Fines, Penalties, Rules</td>\n",
       "      <td>217297</td>\n",
       "      <td>58.0</td>\n",
       "      <td>Bangalore\\r\\n                      , Karnataka</td>\n",
       "      <td>November 24, 2019</td>\n",
       "    </tr>\n",
       "    <tr>\n",
       "      <th>4</th>\n",
       "      <td>Corruption</td>\n",
       "      <td>Paid INR 8,000\\r\\n</td>\n",
       "      <td>Land Registration</td>\n",
       "      <td>217296</td>\n",
       "      <td>165.0</td>\n",
       "      <td>Yellandu\\r\\n                      , Telangana</td>\n",
       "      <td>November 23, 2019</td>\n",
       "    </tr>\n",
       "  </tbody>\n",
       "</table>\n",
       "</div>"
      ],
      "text/plain": [
       "                                             title  \\\n",
       "0  They asking me bribe for community certificate    \n",
       "1               Birhalganj police asking for bribe   \n",
       "2     Paid bribe for bike towed from parking place   \n",
       "3                                    Over speeding   \n",
       "4                                       Corruption   \n",
       "\n",
       "                                        amount  \\\n",
       "0     Paid INR 100\\r\\n                           \n",
       "1  Paid INR 10,000\\r\\n                           \n",
       "2   Paid INR 1,000\\r\\n                           \n",
       "3     Paid INR 350\\r\\n                           \n",
       "4   Paid INR 8,000\\r\\n                           \n",
       "\n",
       "                        department  transDetail  views  \\\n",
       "0                     Certificates       217387    NaN   \n",
       "1               FIR and Complaints       217386    NaN   \n",
       "2  Traffic Fines, Penalties, Rules       217299   59.0   \n",
       "3  Traffic Fines, Penalties, Rules       217297   58.0   \n",
       "4                Land Registration       217296  165.0   \n",
       "\n",
       "                                                city               date  \n",
       "0   Thiruvarur\\r\\n                      , Tamil Nadu  November 26, 2019  \n",
       "1  Gorakhpur\\r\\n                      , Uttar Pra...  November 26, 2019  \n",
       "2     Bangalore\\r\\n                      , Karnataka  November 24, 2019  \n",
       "3     Bangalore\\r\\n                      , Karnataka  November 24, 2019  \n",
       "4      Yellandu\\r\\n                      , Telangana  November 23, 2019  "
      ]
     },
     "execution_count": 12,
     "metadata": {},
     "output_type": "execute_result"
    }
   ],
   "source": [
    "df.head()"
   ]
  },
  {
   "cell_type": "code",
   "execution_count": 69,
   "metadata": {},
   "outputs": [
    {
     "data": {
      "text/plain": [
       "0       100\n",
       "1    10,000\n",
       "2     1,000\n",
       "3       350\n",
       "4     8,000\n",
       "Name: amount, dtype: object"
      ]
     },
     "execution_count": 69,
     "metadata": {},
     "output_type": "execute_result"
    }
   ],
   "source": [
    "amtextr = df['amount'].str.extract('([,\\d]+.?\\d+)', expand =False)\n",
    "amtextr.head()"
   ]
  },
  {
   "cell_type": "code",
   "execution_count": 71,
   "metadata": {},
   "outputs": [],
   "source": [
    "amtextr = amtextr.str.replace(',', '').astype(float)"
   ]
  },
  {
   "cell_type": "code",
   "execution_count": 72,
   "metadata": {},
   "outputs": [
    {
     "data": {
      "text/plain": [
       "0      100.0\n",
       "1    10000.0\n",
       "2     1000.0\n",
       "3      350.0\n",
       "4     8000.0\n",
       "Name: amount, dtype: float64"
      ]
     },
     "execution_count": 72,
     "metadata": {},
     "output_type": "execute_result"
    }
   ],
   "source": [
    "amtextr.head()"
   ]
  },
  {
   "cell_type": "code",
   "execution_count": 73,
   "metadata": {},
   "outputs": [
    {
     "data": {
      "text/html": [
       "<div>\n",
       "<style scoped>\n",
       "    .dataframe tbody tr th:only-of-type {\n",
       "        vertical-align: middle;\n",
       "    }\n",
       "\n",
       "    .dataframe tbody tr th {\n",
       "        vertical-align: top;\n",
       "    }\n",
       "\n",
       "    .dataframe thead th {\n",
       "        text-align: right;\n",
       "    }\n",
       "</style>\n",
       "<table border=\"1\" class=\"dataframe\">\n",
       "  <thead>\n",
       "    <tr style=\"text-align: right;\">\n",
       "      <th></th>\n",
       "      <th>title</th>\n",
       "      <th>amount</th>\n",
       "      <th>department</th>\n",
       "      <th>transDetail</th>\n",
       "      <th>views</th>\n",
       "      <th>city</th>\n",
       "      <th>date</th>\n",
       "    </tr>\n",
       "  </thead>\n",
       "  <tbody>\n",
       "    <tr>\n",
       "      <th>0</th>\n",
       "      <td>They asking me bribe for community certificate</td>\n",
       "      <td>100.0</td>\n",
       "      <td>Certificates</td>\n",
       "      <td>217387</td>\n",
       "      <td>NaN</td>\n",
       "      <td>Thiruvarur\\r\\n                      , Tamil Nadu</td>\n",
       "      <td>November 26, 2019</td>\n",
       "    </tr>\n",
       "    <tr>\n",
       "      <th>1</th>\n",
       "      <td>Birhalganj police asking for bribe</td>\n",
       "      <td>10000.0</td>\n",
       "      <td>FIR and Complaints</td>\n",
       "      <td>217386</td>\n",
       "      <td>NaN</td>\n",
       "      <td>Gorakhpur\\r\\n                      , Uttar Pra...</td>\n",
       "      <td>November 26, 2019</td>\n",
       "    </tr>\n",
       "    <tr>\n",
       "      <th>2</th>\n",
       "      <td>Paid bribe for bike towed from parking place</td>\n",
       "      <td>1000.0</td>\n",
       "      <td>Traffic Fines, Penalties, Rules</td>\n",
       "      <td>217299</td>\n",
       "      <td>59.0</td>\n",
       "      <td>Bangalore\\r\\n                      , Karnataka</td>\n",
       "      <td>November 24, 2019</td>\n",
       "    </tr>\n",
       "    <tr>\n",
       "      <th>3</th>\n",
       "      <td>Over speeding</td>\n",
       "      <td>350.0</td>\n",
       "      <td>Traffic Fines, Penalties, Rules</td>\n",
       "      <td>217297</td>\n",
       "      <td>58.0</td>\n",
       "      <td>Bangalore\\r\\n                      , Karnataka</td>\n",
       "      <td>November 24, 2019</td>\n",
       "    </tr>\n",
       "    <tr>\n",
       "      <th>4</th>\n",
       "      <td>Corruption</td>\n",
       "      <td>8000.0</td>\n",
       "      <td>Land Registration</td>\n",
       "      <td>217296</td>\n",
       "      <td>165.0</td>\n",
       "      <td>Yellandu\\r\\n                      , Telangana</td>\n",
       "      <td>November 23, 2019</td>\n",
       "    </tr>\n",
       "  </tbody>\n",
       "</table>\n",
       "</div>"
      ],
      "text/plain": [
       "                                             title   amount  \\\n",
       "0  They asking me bribe for community certificate     100.0   \n",
       "1               Birhalganj police asking for bribe  10000.0   \n",
       "2     Paid bribe for bike towed from parking place   1000.0   \n",
       "3                                    Over speeding    350.0   \n",
       "4                                       Corruption   8000.0   \n",
       "\n",
       "                        department  transDetail  views  \\\n",
       "0                     Certificates       217387    NaN   \n",
       "1               FIR and Complaints       217386    NaN   \n",
       "2  Traffic Fines, Penalties, Rules       217299   59.0   \n",
       "3  Traffic Fines, Penalties, Rules       217297   58.0   \n",
       "4                Land Registration       217296  165.0   \n",
       "\n",
       "                                                city               date  \n",
       "0   Thiruvarur\\r\\n                      , Tamil Nadu  November 26, 2019  \n",
       "1  Gorakhpur\\r\\n                      , Uttar Pra...  November 26, 2019  \n",
       "2     Bangalore\\r\\n                      , Karnataka  November 24, 2019  \n",
       "3     Bangalore\\r\\n                      , Karnataka  November 24, 2019  \n",
       "4      Yellandu\\r\\n                      , Telangana  November 23, 2019  "
      ]
     },
     "execution_count": 73,
     "metadata": {},
     "output_type": "execute_result"
    }
   ],
   "source": [
    "df['amount'] = pd.to_numeric(amtextr)\n",
    "df['amount'].dtype\n",
    "df.head()"
   ]
  },
  {
   "cell_type": "code",
   "execution_count": 74,
   "metadata": {},
   "outputs": [
    {
     "data": {
      "text/plain": [
       "array(['Certificates', 'FIR and Complaints',\n",
       "       'Traffic Fines, Penalties, Rules', 'Land Registration',\n",
       "       'Verification and Certificates', 'Others', 'Post and Parcel',\n",
       "       'Excess Baggage', 'Caste Certificate', 'Property Registration',\n",
       "       'Policies and Procedures', 'Commercial and Industrial',\n",
       "       'Food License', 'Autorickshaws', 'Loans', 'Services',\n",
       "       'License for Sale of Drugs', 'Water Connection', nan,\n",
       "       'Change of Tariff in Domestic to Commercial',\n",
       "       'Ticket and Seat Related', 'College Leaving Certificate',\n",
       "       'Vehicle Fitness', 'Customs Check and Clearance',\n",
       "       'Payment and Arrears', 'Building Construction Approval',\n",
       "       'Telephone and Internet Connection', 'Births, Family and Care',\n",
       "       'Health Services', 'Hospitals and Medical Care', 'Sales Tax'],\n",
       "      dtype=object)"
      ]
     },
     "execution_count": 74,
     "metadata": {},
     "output_type": "execute_result"
    }
   ],
   "source": [
    "df['department'].unique()"
   ]
  },
  {
   "cell_type": "code",
   "execution_count": 155,
   "metadata": {},
   "outputs": [
    {
     "data": {
      "text/plain": [
       "department\n",
       "Others                               5.563195e+10\n",
       "Hospitals and Medical Care           1.320000e+08\n",
       "Health Services                      3.960000e+07\n",
       "Commercial and Industrial            6.800000e+05\n",
       "Services                             4.580000e+05\n",
       "Land Registration                    3.640000e+05\n",
       "Building Construction Approval       3.000000e+05\n",
       "Customs Check and Clearance          2.000000e+05\n",
       "License for Sale of Drugs            2.000000e+05\n",
       "Telephone and Internet Connection    2.000000e+05\n",
       "Name: amount, dtype: float64"
      ]
     },
     "execution_count": 155,
     "metadata": {},
     "output_type": "execute_result"
    }
   ],
   "source": [
    "#As per the analysis, the maximum bribe was paid in Hospitals and Medical Care and Health Services, followed by commercial \n",
    "#and Industries department.\n",
    "total_amount_departmentwise =  df.groupby('department')['amount'].sum()\n",
    "total_amount_departmentwise.nlargest(10)"
   ]
  },
  {
   "cell_type": "code",
   "execution_count": 136,
   "metadata": {},
   "outputs": [
    {
     "data": {
      "text/plain": [
       "city\n",
       "Bangalore\\r\\n                      , Karnataka    2.040236e+10\n",
       "Chennai\\r\\n                      , Tamil Nadu     2.020038e+10\n",
       "Belgaum\\r\\n                      , Karnataka      2.610000e+09\n",
       "Mangalore\\r\\n                      , Karnataka    2.404000e+09\n",
       "Hubli\\r\\n                      , Karnataka        2.226000e+09\n",
       "Name: amount, dtype: float64"
      ]
     },
     "execution_count": 136,
     "metadata": {},
     "output_type": "execute_result"
    }
   ],
   "source": [
    "total_amount_citywise = df.groupby('city')['amount'].sum()\n",
    "total_amount_citywise.nlargest(5)\n",
    "#Based on the data, Bangalore is the city where maximum bribe amount was paid.\n",
    "#This can be because maximum reportings were done in Bangalore and Ipaidbribe.com is based out of bangalore."
   ]
  },
  {
   "cell_type": "code",
   "execution_count": 102,
   "metadata": {},
   "outputs": [
    {
     "data": {
      "text/plain": [
       "55806569752.0"
      ]
     },
     "execution_count": 102,
     "metadata": {},
     "output_type": "execute_result"
    }
   ],
   "source": [
    "total_paid_bribe = df['amount'].sum()\n",
    "total_paid_bribe\n",
    "#total amount paid as bribe from 31st october to november 26 was 55,806,569,752 (55.8 Billions)"
   ]
  },
  {
   "cell_type": "code",
   "execution_count": 133,
   "metadata": {},
   "outputs": [
    {
     "data": {
      "text/plain": [
       "<matplotlib.axes._subplots.AxesSubplot at 0x5d7b530>"
      ]
     },
     "execution_count": 133,
     "metadata": {},
     "output_type": "execute_result"
    },
    {
     "data": {
      "image/png": "[encoded data removed]",
      "text/plain": [
       "<Figure size 432x288 with 1 Axes>"
      ]
     },
     "metadata": {
      "needs_background": "light"
     },
     "output_type": "display_data"
    }
   ],
   "source": [
    "total_reports_departmentwise = df.groupby('department')['transDetail'].count()\n",
    "total_reports_departmentwise.plot(kind = 'bar')\n",
    "#Maximum reportings were done for Hospitals and Medical Care, followed by Certificates "
   ]
  },
  {
   "cell_type": "code",
   "execution_count": 139,
   "metadata": {},
   "outputs": [
    {
     "data": {
      "image/png": "[encoded data removed]",
      "text/plain": [
       "<Figure size 1080x72 with 1 Axes>"
      ]
     },
     "metadata": {
      "needs_background": "light"
     },
     "output_type": "display_data"
    }
   ],
   "source": [
    "total_amount_datewise = df.groupby('date')['amount'].sum()\n",
    "ax = total_amount_datewise.plot(kind = 'line', figsize=(15, 1))\n",
    "#The highest amount was paid on 23rd November."
   ]
  },
  {
   "cell_type": "code",
   "execution_count": 140,
   "metadata": {},
   "outputs": [
    {
     "data": {
      "text/plain": [
       "<matplotlib.axes._subplots.AxesSubplot at 0xe6aadd0>"
      ]
     },
     "execution_count": 140,
     "metadata": {},
     "output_type": "execute_result"
    },
    {
     "data": {
      "image/png": "[encoded data removed]",
      "text/plain": [
       "<Figure size 1080x72 with 1 Axes>"
      ]
     },
     "metadata": {
      "needs_background": "light"
     },
     "output_type": "display_data"
    }
   ],
   "source": [
    "total_reports_datewise = df.groupby('date')['transDetail'].count()\n",
    "total_reports_datewise.plot(kind = 'line', figsize =(15,1))\n",
    "#Maximum reportings were done on November 3rd, followed by November 18 and November 23rd. \n",
    "#It seems like people usually post on weekends "
   ]
  },
  {
   "cell_type": "code",
   "execution_count": 125,
   "metadata": {},
   "outputs": [
    {
     "data": {
      "text/plain": [
       "<matplotlib.axes._subplots.AxesSubplot at 0x5aaeff0>"
      ]
     },
     "execution_count": 125,
     "metadata": {},
     "output_type": "execute_result"
    },
    {
     "data": {
      "image/png": "[encoded data removed]",
      "text/plain": [
       "<Figure size 432x288 with 1 Axes>"
      ]
     },
     "metadata": {
      "needs_background": "light"
     },
     "output_type": "display_data"
    }
   ],
   "source": [
    "total_reports_citywise = df.groupby('city')['transDetail'].count()\n",
    "total_reports_citywise.nlargest(5).plot(kind = 'bar')\n",
    "#Bangalore has the highest no. of reportings. \n",
    "#This can be owed to strong presence of Ipaidbribe.com in Bangalore and awareness about it."
   ]
  },
  {
   "cell_type": "code",
   "execution_count": 113,
   "metadata": {},
   "outputs": [
    {
     "data": {
      "text/plain": [
       "736"
      ]
     },
     "execution_count": 113,
     "metadata": {},
     "output_type": "execute_result"
    }
   ],
   "source": [
    "total_views = df['views'].count()\n",
    "total_views\n",
    "#The total number of views received during the analysis duration were 736."
   ]
  },
  {
   "cell_type": "code",
   "execution_count": 124,
   "metadata": {},
   "outputs": [
    {
     "data": {
      "text/plain": [
       "<matplotlib.axes._subplots.AxesSubplot at 0x5a8ddb0>"
      ]
     },
     "execution_count": 124,
     "metadata": {},
     "output_type": "execute_result"
    },
    {
     "name": "stderr",
     "output_type": "stream",
     "text": [
      "c:\\users\\acer\\appdata\\local\\programs\\python\\python37-32\\lib\\site-packages\\matplotlib\\backends\\backend_agg.py:211: RuntimeWarning: Glyph 13 missing from current font.\n",
      "  font.set_text(s, 0.0, flags=flags)\n",
      "c:\\users\\acer\\appdata\\local\\programs\\python\\python37-32\\lib\\site-packages\\matplotlib\\backends\\backend_agg.py:180: RuntimeWarning: Glyph 13 missing from current font.\n",
      "  font.set_text(s, 0, flags=flags)\n"
     ]
    },
    {
     "data": {
      "image/png": "[encoded data removed]",
      "text/plain": [
       "<Figure size 432x288 with 1 Axes>"
      ]
     },
     "metadata": {
      "needs_background": "light"
     },
     "output_type": "display_data"
    }
   ],
   "source": [
    "total_views_citywise = df.groupby('city')['views'].count()\n",
    "total_views_citywise.nlargest(5).plot(kind = 'bar')\n",
    "#Bangalore has the highest number of views, followed by Chennai. \n",
    "#This can be attributed to awarenss about the site in Southern part of India."
   ]
  },
  {
   "cell_type": "code",
   "execution_count": 142,
   "metadata": {},
   "outputs": [
    {
     "data": {
      "text/plain": [
       "<matplotlib.axes._subplots.AxesSubplot at 0x5a7eeb0>"
      ]
     },
     "execution_count": 142,
     "metadata": {},
     "output_type": "execute_result"
    },
    {
     "data": {
      "image/png": "[encoded data removed]",
      "text/plain": [
       "<Figure size 1080x72 with 1 Axes>"
      ]
     },
     "metadata": {
      "needs_background": "light"
     },
     "output_type": "display_data"
    }
   ],
   "source": [
    "total_views_datewise = df.groupby('date')['views'].count()\n",
    "total_views_datewise\n",
    "total_views_datewise.plot(kind = 'line', figsize =(15,1))\n",
    "#Maximum views were received on November 3rd, followed by November 18 and November 23rd. \n",
    "#It seems like people usually browse articles on weekends"
   ]
  },
  {
   "cell_type": "code",
   "execution_count": 154,
   "metadata": {},
   "outputs": [
    {
     "data": {
      "text/plain": [
       "<matplotlib.axes._subplots.AxesSubplot at 0xe8e94b0>"
      ]
     },
     "execution_count": 154,
     "metadata": {},
     "output_type": "execute_result"
    },
    {
     "data": {
      "image/png": "[encoded data removed]",
      "text/plain": [
       "<Figure size 432x288 with 1 Axes>"
      ]
     },
     "metadata": {},
     "output_type": "display_data"
    }
   ],
   "source": [
    "total_views_departmentwise = df.groupby('department')['views'].count()\n",
    "total_views_departmentwise\n",
    "total_views_departmentwise.plot(kind = 'pie')\n",
    "#Maximum views were received for articles relating to Hospitals and medical care division. \n",
    "#This can be attributed to the highest number of postings in this department."
   ]
  },
  {
   "cell_type": "code",
   "execution_count": 122,
   "metadata": {},
   "outputs": [],
   "source": []
  },
  {
   "cell_type": "code",
   "execution_count": null,
   "metadata": {},
   "outputs": [],
   "source": []
  }
 ],
 "metadata": {
  "kernelspec": {
   "display_name": "Python 3",
   "language": "python",
   "name": "python3"
  },
  "language_info": {
   "codemirror_mode": {
    "name": "ipython",
    "version": 3
   },
   "file_extension": ".py",
   "mimetype": "text/x-python",
   "name": "python",
   "nbconvert_exporter": "python",
   "pygments_lexer": "ipython3",
   "version": "3.7.4"
  }
 },
 "nbformat": 4,
 "nbformat_minor": 2
}
